{
  "nbformat": 4,
  "nbformat_minor": 0,
  "metadata": {
    "colab": {
      "provenance": [],
      "toc_visible": true,
      "authorship_tag": "ABX9TyPeOJ98RTo6Z8WhovNKAADu",
      "include_colab_link": true
    },
    "kernelspec": {
      "name": "python3",
      "display_name": "Python 3"
    },
    "language_info": {
      "name": "python"
    }
  },
  "cells": [
    {
      "cell_type": "markdown",
      "metadata": {
        "id": "view-in-github",
        "colab_type": "text"
      },
      "source": [
        "<a href=\"https://colab.research.google.com/github/ElmoShelmo/FirstTest/blob/master/intro.ipynb\" target=\"_parent\"><img src=\"https://colab.research.google.com/assets/colab-badge.svg\" alt=\"Open In Colab\"/></a>"
      ]
    },
    {
      "cell_type": "markdown",
      "source": [
        "### Calculate Sales"
      ],
      "metadata": {
        "id": "56uO0GHVQhPF"
      }
    },
    {
      "cell_type": "code",
      "source": [
        "revenue = 10000\n",
        "tax = 0.19\n",
        "income = revenue * tax\n",
        "income"
      ],
      "metadata": {
        "colab": {
          "base_uri": "https://localhost:8080/"
        },
        "id": "CcZX0-huPG4V",
        "outputId": "495ac490-9048-4dfc-9c82-409f0964f3eb"
      },
      "execution_count": 1,
      "outputs": [
        {
          "output_type": "execute_result",
          "data": {
            "text/plain": [
              "1900.0"
            ]
          },
          "metadata": {},
          "execution_count": 1
        }
      ]
    },
    {
      "cell_type": "code",
      "source": [
        "print(income)"
      ],
      "metadata": {
        "colab": {
          "base_uri": "https://localhost:8080/"
        },
        "id": "5MgRSMw2Puv7",
        "outputId": "024c6e87-4520-4ec6-cafe-2a5fae760163"
      },
      "execution_count": 2,
      "outputs": [
        {
          "output_type": "stream",
          "name": "stdout",
          "text": [
            "1900.0\n"
          ]
        }
      ]
    },
    {
      "cell_type": "markdown",
      "source": [
        "# Summary"
      ],
      "metadata": {
        "id": "egFcAwPHQtR-"
      }
    },
    {
      "cell_type": "code",
      "source": [
        "import numpy as np\n",
        "\n",
        "np.__version__"
      ],
      "metadata": {
        "colab": {
          "base_uri": "https://localhost:8080/",
          "height": 35
        },
        "id": "PEXSAvdeQc-6",
        "outputId": "89f9a999-f9c4-411a-9df2-21268ff5f7f8"
      },
      "execution_count": 3,
      "outputs": [
        {
          "output_type": "execute_result",
          "data": {
            "text/plain": [
              "'1.21.6'"
            ],
            "application/vnd.google.colaboratory.intrinsic+json": {
              "type": "string"
            }
          },
          "metadata": {},
          "execution_count": 3
        }
      ]
    },
    {
      "cell_type": "code",
      "source": [
        "np.random.rand()"
      ],
      "metadata": {
        "colab": {
          "base_uri": "https://localhost:8080/"
        },
        "id": "cN48SzP2RFbo",
        "outputId": "1dc3a52a-fe93-41dd-bc09-62e741e81a0f"
      },
      "execution_count": 11,
      "outputs": [
        {
          "output_type": "execute_result",
          "data": {
            "text/plain": [
              "0.3430283552660883"
            ]
          },
          "metadata": {},
          "execution_count": 11
        }
      ]
    },
    {
      "cell_type": "code",
      "source": [
        "!pip install imageai"
      ],
      "metadata": {
        "colab": {
          "base_uri": "https://localhost:8080/"
        },
        "id": "J-7gNE7wRQla",
        "outputId": "859f255a-3ce4-43b7-891b-e81e46bccc81"
      },
      "execution_count": 13,
      "outputs": [
        {
          "output_type": "stream",
          "name": "stdout",
          "text": [
            "Looking in indexes: https://pypi.org/simple, https://us-python.pkg.dev/colab-wheels/public/simple/\n",
            "Collecting imageai\n",
            "  Downloading imageai-3.0.3-py3-none-any.whl (69 kB)\n",
            "\u001b[2K     \u001b[90m━━━━━━━━━━━━━━━━━━━━━━━━━━━━━━━━━━━━━━━━\u001b[0m \u001b[32m69.8/69.8 KB\u001b[0m \u001b[31m9.0 MB/s\u001b[0m eta \u001b[36m0:00:00\u001b[0m\n",
            "\u001b[?25hInstalling collected packages: imageai\n",
            "Successfully installed imageai-3.0.3\n"
          ]
        }
      ]
    },
    {
      "cell_type": "code",
      "source": [
        "import imageai"
      ],
      "metadata": {
        "id": "uRml_CejRqCZ"
      },
      "execution_count": 14,
      "outputs": []
    },
    {
      "cell_type": "markdown",
      "source": [
        "# Markdown"
      ],
      "metadata": {
        "id": "qdBVqnk9R-Sl"
      }
    },
    {
      "cell_type": "markdown",
      "source": [
        "Example of *markdown*  \n",
        "Example of **markdown**  \n",
        "Example of __markdown__\n",
        "Example of `markdown`\n",
        "```\n",
        "Example of markdown\n",
        "```\n",
        "> Python\n",
        ">>Code\n",
        "\n",
        "An ordered list:\n",
        "1. one\n",
        "2. two\n",
        "3. three\n",
        "\n",
        "An unordered list:\n",
        "* one\n",
        "* two\n",
        "* three\n",
        "\n",
        "[Google](https://www.google.de/?hl=de)\n",
        "![Python](https://upload.wikimedia.org/wikipedia/commons/thumb/f/f8/Python_logo_and_wordmark.svg/2560px-Python_logo_and_wordmark.svg.png)"
      ],
      "metadata": {
        "id": "VXVdgSCjSMGc"
      }
    },
    {
      "cell_type": "markdown",
      "source": [
        "$y = x^2$  \n",
        "$\\frac{1}{n} \\sum_{i=1}^{n}x_{i}$"
      ],
      "metadata": {
        "id": "pLrrqB7iTmF8"
      }
    },
    {
      "cell_type": "markdown",
      "source": [
        "$A = \\begin{pmatrix}\n",
        "a_{1,1} & a_{1,2} \\\\\n",
        "a_{2,1} & a_{2,2}\n",
        "\\end{pmatrix}$"
      ],
      "metadata": {
        "id": "O-kDnENIUWTo"
      }
    },
    {
      "cell_type": "markdown",
      "source": [
        "Col1 | Col2 | Col3\n",
        "--- | --- | --- \n",
        "val1 | val2 | val3\n",
        "val4 | val5 | val6\n"
      ],
      "metadata": {
        "id": "YfETVVRCUuhF"
      }
    }
  ]
}